{
 "cells": [
  {
   "cell_type": "code",
   "execution_count": 1,
   "metadata": {
    "ExecuteTime": {
     "end_time": "2020-04-25T16:58:42.806148Z",
     "start_time": "2020-04-25T16:58:42.594956Z"
    }
   },
   "outputs": [],
   "source": [
    "from selenium import webdriver\n",
    "from bs4 import BeautifulSoup\n",
    "from tqdm import trange\n",
    "import pickle\n",
    "import time\n",
    "import sys"
   ]
  },
  {
   "cell_type": "code",
   "execution_count": 2,
   "metadata": {
    "ExecuteTime": {
     "end_time": "2020-04-25T16:58:43.610881Z",
     "start_time": "2020-04-25T16:58:43.608878Z"
    }
   },
   "outputs": [],
   "source": [
    "main_url = 'https://www.tripadvisor.com/Airlines'"
   ]
  },
  {
   "cell_type": "code",
   "execution_count": 6,
   "metadata": {
    "ExecuteTime": {
     "end_time": "2020-04-25T17:04:35.025521Z",
     "start_time": "2020-04-25T17:04:35.019515Z"
    }
   },
   "outputs": [],
   "source": [
    "def get_links_to_scrape(main_url, start=0, num_pages=10):\n",
    "    '''\n",
    "    navigates to airline page, extracts html links to airlines for future scrape.\n",
    "    '''\n",
    "    driver = webdriver.Firefox()\n",
    "    driver.get(main_url)\n",
    "    driver.implicitly_wait(100)\n",
    "\n",
    "    for n in trange(start):\n",
    "        button = driver.find_element_by_class_name(\"nav.next\")\n",
    "        button.click()\n",
    "        time.sleep(2)\n",
    "\n",
    "    url_list = []\n",
    "    for n in trange(num_pages):\n",
    "        urls = driver.find_elements_by_class_name('detailsLink')\n",
    "        for url in urls[:10]:\n",
    "            href = url.get_attribute('href')\n",
    "            url_list.append(href)\n",
    "\n",
    "        button = driver.find_element_by_class_name(\"nav.next\")\n",
    "        button.click()\n",
    "        time.sleep(2)\n",
    "\n",
    "    driver.quit()\n",
    "    new_airlines = '\\n'.join(url_list)\n",
    "    with open('airlines.txt', 'a') as outfile:\n",
    "        outfile.write(new_airlines)\n",
    "\n",
    "    return url_list"
   ]
  },
  {
   "cell_type": "code",
   "execution_count": 8,
   "metadata": {
    "ExecuteTime": {
     "end_time": "2020-04-25T17:06:37.150664Z",
     "start_time": "2020-04-25T17:06:05.837166Z"
    },
    "scrolled": true
   },
   "outputs": [
    {
     "name": "stderr",
     "output_type": "stream",
     "text": [
      "0it [00:00, ?it/s]\n",
      "100%|██████████████████████████████████████████████████████████████████████████████████| 10/10 [00:22<00:00,  2.30s/it]\n"
     ]
    },
    {
     "data": {
      "text/plain": [
       "['https://www.tripadvisor.com/Airline_Review-d8728984-Reviews-Adria-Airways-No-Longer-Operating',\n",
       " 'https://www.tripadvisor.com/Airline_Review-d17550095-Reviews-Advanced-Air',\n",
       " 'https://www.tripadvisor.com/Airline_Review-d8728985-Reviews-AEGEAN',\n",
       " 'https://www.tripadvisor.com/Airline_Review-d8728986-Reviews-Aer-Lingus',\n",
       " 'https://www.tripadvisor.com/Airline_Review-d13804006-Reviews-Aero-Mongolia',\n",
       " 'https://www.tripadvisor.com/Airline_Review-d8728987-Reviews-Aeroflot',\n",
       " 'https://www.tripadvisor.com/Airline_Review-d11831132-Reviews-Aerogaviota',\n",
       " 'https://www.tripadvisor.com/Airline_Review-d11831129-Reviews-Aerolinea-De-Antioquia',\n",
       " 'https://www.tripadvisor.com/Airline_Review-d8728988-Reviews-Aerolineas-Argentinas',\n",
       " 'https://www.tripadvisor.com/Airline_Review-d8728874-Reviews-Aeromar',\n",
       " 'https://www.tripadvisor.com/Airline_Review-d8728989-Reviews-Aeromexico',\n",
       " 'https://www.tripadvisor.com/Airline_Review-d15052985-Reviews-Africa-World-Airlines',\n",
       " 'https://www.tripadvisor.com/Airline_Review-d8728990-Reviews-African-Express-Airways',\n",
       " 'https://www.tripadvisor.com/Airline_Review-d8728991-Reviews-Afriqiyah-Airways',\n",
       " 'https://www.tripadvisor.com/Airline_Review-d8728992-Reviews-Aigle-Azur-No-Longer-Operating',\n",
       " 'https://www.tripadvisor.com/Airline_Review-d8728993-Reviews-Air-Algerie',\n",
       " 'https://www.tripadvisor.com/Airline_Review-d11831112-Reviews-Air-Antilles',\n",
       " 'https://www.tripadvisor.com/Airline_Review-d8728994-Reviews-Air-Arabia',\n",
       " 'https://www.tripadvisor.com/Airline_Review-d8728936-Reviews-Air-Astana',\n",
       " 'https://www.tripadvisor.com/Airline_Review-d8728995-Reviews-Air-Austral',\n",
       " 'https://www.tripadvisor.com/Airline_Review-d10533085-Reviews-Air-Bagan',\n",
       " 'https://www.tripadvisor.com/Airline_Review-d8728996-Reviews-Air-Baltic',\n",
       " 'https://www.tripadvisor.com/Airline_Review-d19698651-Reviews-Air-Belgium',\n",
       " 'https://www.tripadvisor.com/Airline_Review-d8729015-Reviews-Air-Berlin-No-Longer-Operating',\n",
       " 'https://www.tripadvisor.com/Airline_Review-d8728997-Reviews-Air-Botswana',\n",
       " 'https://www.tripadvisor.com/Airline_Review-d8728875-Reviews-Air-Burkina',\n",
       " 'https://www.tripadvisor.com/Airline_Review-d10533114-Reviews-Air-Busan',\n",
       " 'https://www.tripadvisor.com/Airline_Review-d8728938-Reviews-Air-Cairo',\n",
       " 'https://www.tripadvisor.com/Airline_Review-d8728998-Reviews-Air-Canada',\n",
       " 'https://www.tripadvisor.com/Airline_Review-d8808634-Reviews-Air-Canada-Rouge',\n",
       " 'https://www.tripadvisor.com/Airline_Review-d8728999-Reviews-Air-Caraibes',\n",
       " 'https://www.tripadvisor.com/Airline_Review-d14190654-Reviews-Air-Century',\n",
       " 'https://www.tripadvisor.com/Airline_Review-d13803998-Reviews-Air-Changan',\n",
       " 'https://www.tripadvisor.com/Airline_Review-d10816897-Reviews-Air-Chathams',\n",
       " 'https://www.tripadvisor.com/Airline_Review-d8729000-Reviews-Air-China',\n",
       " 'https://www.tripadvisor.com/Airline_Review-d11831102-Reviews-Air-Choice-One',\n",
       " 'https://www.tripadvisor.com/Airline_Review-d10816886-Reviews-Air-Corsica',\n",
       " 'https://www.tripadvisor.com/Airline_Review-d10533082-Reviews-Air-Costa-No-Longer-Operating',\n",
       " 'https://www.tripadvisor.com/Airline_Review-d12665304-Reviews-Air-Cote-D-Ivoire',\n",
       " 'https://www.tripadvisor.com/Airline_Review-d12280238-Reviews-Air-Do',\n",
       " 'https://www.tripadvisor.com/Airline_Review-d8729001-Reviews-Air-Dolomiti',\n",
       " 'https://www.tripadvisor.com/Airline_Review-d8729002-Reviews-Air-Europa',\n",
       " 'https://www.tripadvisor.com/Airline_Review-d10533083-Reviews-Air-Flamenco',\n",
       " 'https://www.tripadvisor.com/Airline_Review-d8729003-Reviews-Air-France',\n",
       " 'https://www.tripadvisor.com/Airline_Review-d8728902-Reviews-Air-Greenland',\n",
       " 'https://www.tripadvisor.com/Airline_Review-d13804003-Reviews-Air-Guilin',\n",
       " 'https://www.tripadvisor.com/Airline_Review-d10533124-Reviews-Air-Iceland-Connect-This-Is-Not-Icelandair',\n",
       " 'https://www.tripadvisor.com/Airline_Review-d8729004-Reviews-Air-India',\n",
       " 'https://www.tripadvisor.com/Airline_Review-d8729194-Reviews-Air-India-Express',\n",
       " 'https://www.tripadvisor.com/Airline_Review-d8728886-Reviews-Air-Italy-No-Longer-Operating',\n",
       " 'https://www.tripadvisor.com/Airline_Review-d14190680-Reviews-Air-Juan',\n",
       " 'https://www.tripadvisor.com/Airline_Review-d10533084-Reviews-AIR-KBZ-Air-Kanbawza',\n",
       " 'https://www.tripadvisor.com/Airline_Review-d17213155-Reviews-Air-Kiribati',\n",
       " 'https://www.tripadvisor.com/Airline_Review-d8729005-Reviews-Air-Koryo',\n",
       " 'https://www.tripadvisor.com/Airline_Review-d8728970-Reviews-Air-Kyrgyzstan',\n",
       " 'https://www.tripadvisor.com/Airline_Review-d12124797-Reviews-Air-Macau',\n",
       " 'https://www.tripadvisor.com/Airline_Review-d8729006-Reviews-Air-Madagascar',\n",
       " 'https://www.tripadvisor.com/Airline_Review-d8729007-Reviews-Air-Malta',\n",
       " 'https://www.tripadvisor.com/Airline_Review-d13804012-Reviews-Air-Manas',\n",
       " 'https://www.tripadvisor.com/Airline_Review-d8729008-Reviews-Air-Mauritius',\n",
       " 'https://www.tripadvisor.com/Airline_Review-d13150558-Reviews-Air-Mediterranean',\n",
       " 'https://www.tripadvisor.com/Airline_Review-d10823596-Reviews-Air-Moldova',\n",
       " 'https://www.tripadvisor.com/Airline_Review-d8729009-Reviews-Air-Namibia',\n",
       " 'https://www.tripadvisor.com/Airline_Review-d8729010-Reviews-Air-New-Zealand',\n",
       " 'https://www.tripadvisor.com/Airline_Review-d8729011-Reviews-Air-Niugini',\n",
       " 'https://www.tripadvisor.com/Airline_Review-d10816875-Reviews-Air-North-Canada',\n",
       " 'https://www.tripadvisor.com/Airline_Review-d11831113-Reviews-Air-Nostrum',\n",
       " 'https://www.tripadvisor.com/Airline_Review-d11831111-Reviews-Air-Panama',\n",
       " 'https://www.tripadvisor.com/Airline_Review-d15053196-Reviews-Air-Peace',\n",
       " 'https://www.tripadvisor.com/Airline_Review-d10533092-Reviews-Air-Pegasus-No-Longer-Operating',\n",
       " 'https://www.tripadvisor.com/Airline_Review-d12280244-Reviews-Air-Rarotonga',\n",
       " 'https://www.tripadvisor.com/Airline_Review-d13635954-Reviews-Air-Saint-Pierre',\n",
       " 'https://www.tripadvisor.com/Airline_Review-d17213150-Reviews-Air-Senegal',\n",
       " 'https://www.tripadvisor.com/Airline_Review-d12280232-Reviews-Air-Seoul',\n",
       " 'https://www.tripadvisor.com/Airline_Review-d8729096-Reviews-Air-Serbia',\n",
       " 'https://www.tripadvisor.com/Airline_Review-d8729012-Reviews-Air-Seychelles',\n",
       " 'https://www.tripadvisor.com/Airline_Review-d10533095-Reviews-Air-Tahiti',\n",
       " 'https://www.tripadvisor.com/Airline_Review-d8729013-Reviews-Air-Tahiti-Nui',\n",
       " 'https://www.tripadvisor.com/Airline_Review-d8729014-Reviews-Air-Transat',\n",
       " 'https://www.tripadvisor.com/Airline_Review-d8729190-Reviews-Air-Vanuatu',\n",
       " 'https://www.tripadvisor.com/Airline_Review-d8728947-Reviews-Air-VIA-No-Longer-Operating',\n",
       " 'https://www.tripadvisor.com/Airline_Review-d11831119-Reviews-Air-Zimbabwe',\n",
       " 'https://www.tripadvisor.com/Airline_Review-d8729220-Reviews-AirAsia-AirAsia-Berhad-Malaysia',\n",
       " 'https://www.tripadvisor.com/Airline_Review-d8728894-Reviews-AirAsia-AirAsia-India',\n",
       " 'https://www.tripadvisor.com/Airline_Review-d8728895-Reviews-AirAsia-AirAsia-Japan',\n",
       " 'https://www.tripadvisor.com/Airline_Review-d8728893-Reviews-AirAsia-AirAsia-X-Berhad-Malaysia',\n",
       " 'https://www.tripadvisor.com/Airline_Review-d8728920-Reviews-AirAsia-Indonesia-AirAsia',\n",
       " 'https://www.tripadvisor.com/Airline_Review-d8728918-Reviews-AirAsia-Philippines-AirAsia',\n",
       " 'https://www.tripadvisor.com/Airline_Review-d8728898-Reviews-AirAsia-Thai-AirAsia',\n",
       " 'https://www.tripadvisor.com/Airline_Review-d12280240-Reviews-AirAsia-Thai-AirAsia-X',\n",
       " 'https://www.tripadvisor.com/Airline_Review-d8728892-Reviews-Airblue',\n",
       " 'https://www.tripadvisor.com/Airline_Review-d8728975-Reviews-Aircalin',\n",
       " 'https://www.tripadvisor.com/Airline_Review-d14190664-Reviews-AirKenya-Express',\n",
       " 'https://www.tripadvisor.com/Airline_Review-d8729016-Reviews-Airlink',\n",
       " 'https://www.tripadvisor.com/Airline_Review-d8728876-Reviews-Airnorth-Australia',\n",
       " 'https://www.tripadvisor.com/Airline_Review-d11831124-Reviews-AirSWIFT',\n",
       " 'https://www.tripadvisor.com/Airline_Review-d8729017-Reviews-Alaska-Airlines',\n",
       " 'https://www.tripadvisor.com/Airline_Review-d10816877-Reviews-Alaska-Seaplanes',\n",
       " 'https://www.tripadvisor.com/Airline_Review-d10823587-Reviews-Alba-Star',\n",
       " 'https://www.tripadvisor.com/Airline_Review-d8728966-Reviews-Alexandria-Airlines']"
      ]
     },
     "execution_count": 8,
     "metadata": {},
     "output_type": "execute_result"
    }
   ],
   "source": [
    "get_links_to_scrape(main_url, start=0, num_pages=10)"
   ]
  },
  {
   "cell_type": "code",
   "execution_count": null,
   "metadata": {
    "ExecuteTime": {
     "end_time": "2020-04-23T12:41:06.732061Z",
     "start_time": "2020-04-23T12:41:06.721746Z"
    }
   },
   "outputs": [],
   "source": [
    "def start_scrape(url, start=0):\n",
    "    '''\n",
    "    starts selenium web driver\n",
    "    param: url - the page url of the page you wish to scrape\n",
    "    param = int: if scrape crashes - change parameter (start) to page number where crash happened to restart from\n",
    "    that point\n",
    "\n",
    "    '''\n",
    "    driver = webdriver.Firefox()\n",
    "    driver.get(url)\n",
    "    driver.implicitly_wait(100)\n",
    "\n",
    "    for n in trange(start):\n",
    "        button = driver.find_element_by_link_text(\"Next\")\n",
    "        button.click()\n",
    "    return driver"
   ]
  },
  {
   "cell_type": "code",
   "execution_count": null,
   "metadata": {
    "ExecuteTime": {
     "end_time": "2020-04-23T12:41:07.401078Z",
     "start_time": "2020-04-23T12:41:07.384988Z"
    }
   },
   "outputs": [],
   "source": [
    "def trip_advisor_scrape(driver, url, start=0, num_reviews=1500):\n",
    "    basename = url.split(\"Reviews-\")[-1]\n",
    "    soup_list = []\n",
    "    for n in trange(num_reviews):\n",
    "        try:\n",
    "            elements = driver.find_element_by_class_name('_36B4Vw6t')\n",
    "            elements.click()\n",
    "        except:\n",
    "            pass\n",
    "        soup = BeautifulSoup(driver.page_source, 'html.parser')\n",
    "        review_soup = soup.find_all('div', attrs={\n",
    "                                    'class': 'location-review-card-Card__ui_card--2Mri0 location-review-card-Card__card--o3LVm location-review-card-Card__section--NiAcw'})\n",
    "        soup_list.append(review_soup)\n",
    "        try:\n",
    "            button = driver.find_element_by_link_text(\"Next\")\n",
    "            button.click()\n",
    "            time.sleep(1)\n",
    "        except:\n",
    "            sys.setrecursionlimit(10000)\n",
    "            pickle.dump(soup_list, open(f'{basename}_{start}-{start + n}.pkl', 'wb'))\n",
    "            break\n",
    "\n",
    "    print('finished at: ', n+1)\n",
    "    sys.setrecursionlimit(10000)\n",
    "    pickle.dump(soup_list, open(f'{basename}_{start}-{start + n}.pkl', 'wb'))"
   ]
  },
  {
   "cell_type": "code",
   "execution_count": null,
   "metadata": {
    "ExecuteTime": {
     "end_time": "2020-04-23T12:47:56.282443Z",
     "start_time": "2020-04-23T12:42:12.128Z"
    }
   },
   "outputs": [],
   "source": [
    "main_url = 'https://www.tripadvisor.com/Airlines'\n",
    "urls = get_links_to_scrape(main_url)\n",
    "\n",
    "for url in urls:\n",
    "    start = 0\n",
    "    num_reviews = 1500\n",
    "    driver = start_scrape(url, start=int(start))\n",
    "    trip_advisor_scrape(driver, url, start=int(start), num_reviews=int(num_reviews))\n",
    "    driver.quit()"
   ]
  }
 ],
 "metadata": {
  "kernelspec": {
   "display_name": "Python 3",
   "language": "python",
   "name": "python3"
  },
  "language_info": {
   "codemirror_mode": {
    "name": "ipython",
    "version": 3
   },
   "file_extension": ".py",
   "mimetype": "text/x-python",
   "name": "python",
   "nbconvert_exporter": "python",
   "pygments_lexer": "ipython3",
   "version": "3.8.2"
  }
 },
 "nbformat": 4,
 "nbformat_minor": 2
}
